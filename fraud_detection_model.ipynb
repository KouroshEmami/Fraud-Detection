{
 "cells": [
  {
   "cell_type": "code",
   "execution_count": null,
   "id": "874055ce",
   "metadata": {},
   "outputs": [],
   "source": [
    "import pandas as pd\n",
    "import numpy as np\n",
    "import matplotlib.pyplot as plt\n",
    "import seaborn as sns\n",
    "\n",
    "from sklearn.model_selection import train_test_split\n",
    "from sklearn.ensemble import RandomForestClassifier\n",
    "from sklearn.metrics import classification_report, confusion_matrix\n",
    "from sklearn.preprocessing import StandardScaler\n",
    "\n",
    "from imblearn.under_sampling import RandomUnderSampler\n",
    "import joblib\n"
   ]
  },
  {
   "cell_type": "code",
   "execution_count": null,
   "id": "af0e3c62",
   "metadata": {},
   "outputs": [],
   "source": [
    "# Load the dataset (make sure 'creditcard.csv' is in the same folder)\n",
    "df = pd.read_csv('creditcard.csv')\n",
    "df.head()\n"
   ]
  },
  {
   "cell_type": "code",
   "execution_count": null,
   "id": "fd399b57",
   "metadata": {},
   "outputs": [],
   "source": [
    "# Summary statistics\n",
    "df.describe()\n"
   ]
  },
  {
   "cell_type": "code",
   "execution_count": null,
   "id": "d2318a05",
   "metadata": {},
   "outputs": [],
   "source": [
    "# Class distribution\n",
    "sns.countplot(x='Class', data=df)\n",
    "plt.title(\"Class Distribution (0 = Legit, 1 = Fraud)\")\n",
    "plt.show()\n"
   ]
  },
  {
   "cell_type": "code",
   "execution_count": null,
   "id": "dee14b2b",
   "metadata": {},
   "outputs": [],
   "source": [
    "# Features and target\n",
    "X = df.drop('Class', axis=1)\n",
    "y = df['Class']\n",
    "\n",
    "# Normalize 'Amount' and 'Time'\n",
    "scaler = StandardScaler()\n",
    "X[['Amount', 'Time']] = scaler.fit_transform(X[['Amount', 'Time']])\n"
   ]
  },
  {
   "cell_type": "code",
   "execution_count": null,
   "id": "8d86eb5f",
   "metadata": {},
   "outputs": [],
   "source": [
    "# Under-sample the majority class\n",
    "rus = RandomUnderSampler(random_state=42)\n",
    "X_res, y_res = rus.fit_resample(X, y)\n",
    "\n",
    "# Check new class balance\n",
    "print(pd.Series(y_res).value_counts())\n"
   ]
  },
  {
   "cell_type": "code",
   "execution_count": null,
   "id": "62a9336f",
   "metadata": {},
   "outputs": [],
   "source": [
    "X_train, X_test, y_train, y_test = train_test_split(X_res, y_res, test_size=0.3, random_state=42)\n"
   ]
  },
  {
   "cell_type": "code",
   "execution_count": null,
   "id": "bb88db04",
   "metadata": {},
   "outputs": [],
   "source": [
    "model = RandomForestClassifier(n_estimators=100, random_state=42)\n",
    "model.fit(X_train, y_train)\n"
   ]
  },
  {
   "cell_type": "code",
   "execution_count": null,
   "id": "e3ec953a",
   "metadata": {},
   "outputs": [],
   "source": [
    "y_pred = model.predict(X_test)\n",
    "print(classification_report(y_test, y_pred))\n"
   ]
  },
  {
   "cell_type": "code",
   "execution_count": null,
   "id": "d1ac9220",
   "metadata": {},
   "outputs": [],
   "source": [
    "# Save the model\n",
    "joblib.dump(model, '../api/model.pkl')\n",
    "print(\"Model saved to '../api/model.pkl'\")\n"
   ]
  }
 ],
 "metadata": {},
 "nbformat": 4,
 "nbformat_minor": 5
}
